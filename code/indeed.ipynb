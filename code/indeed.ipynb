{
 "cells": [
  {
   "cell_type": "code",
   "execution_count": 31,
   "metadata": {
    "collapsed": false
   },
   "outputs": [],
   "source": [
    "import urllib2\n",
    "import requests\n",
    "import pandas as pd\n",
    "from bs4 import BeautifulSoup\n",
    "import numpy as np"
   ]
  },
  {
   "cell_type": "markdown",
   "metadata": {},
   "source": [
    "Problem Statement: The data for this project is gotten from scrapping data from Indeed.com. We will be looking at factors that influence the salary of Data Scientist. More specifically, can we build a model good enough to predict whether a Data Scientist will earn a high or low salary based on his/her location and  job title. "
   ]
  },
  {
   "cell_type": "markdown",
   "metadata": {},
   "source": [
    "For the purpose of this project, we will classify salaries from \\$20,000 - \\$119,000 as low salaries and those \\$120,000 and above as high salary. We will collect information for salaries, job title, location, and job summaries."
   ]
  },
  {
   "cell_type": "code",
   "execution_count": 2,
   "metadata": {
    "collapsed": false
   },
   "outputs": [],
   "source": [
    "# salaries $20,000 and above:\n",
    "\n",
    "# LINK = \"http://www.indeed.com/jobs?q=data+scientist+%2420%2C000&l=\"\n",
    "\n",
    "# page_start_from = '&start='       \n",
    "# df = pd.DataFrame()      \n",
    " \n",
    "# for city in ('New+York%2C+NY', 'Chicago%2C+IL', 'San+Francisco%2C+CA', 'Austin%2C+TX',\n",
    "#             \"Atlanta%2C+GA\", \"Los+Angeles%2C+CA\", \"Washington%2C+DC\" ):\n",
    "#     for page in range(1,21): \n",
    "#         page = (page-1) * 10  \n",
    "#         url = \"%s%s%s%d\" % (LINK, city, page_start_from, page) \n",
    "#         r = requests.get(url)\n",
    "#         soup = BeautifulSoup(r.content) \n",
    "#         results = soup.find_all(\"div\", {'class' : ' row result'}) \n",
    "    \n",
    "#         for i in range(len(results)):\n",
    "#             title    = results[i].find (\"a\", {\"class\": \"turnstileLink\"}).get_text().strip()\n",
    "#             company  = results[i].find (\"span\", {\"class\": \"company\"}).get_text().strip()\n",
    "#             location = results[i].find (\"span\", {\"class\": \"location\"}).get_text().strip()\n",
    "#             summary  = results[i].find (\"span\", {\"class\": \"summary\"}).get_text().strip()        \n",
    "        \n",
    "#             df = df.append({\"Company Name\": company, \"Job Title\": title, \"Location\": location,\n",
    "#                             \"Job Summary\": summary}, ignore_index=True)\n",
    "\n",
    "# df.head()"
   ]
  },
  {
   "cell_type": "code",
   "execution_count": 3,
   "metadata": {
    "collapsed": false,
    "scrolled": true
   },
   "outputs": [],
   "source": [
    "#I'll classify this data frame with a salary of \"L\" to represent jobs with lower salaries:\n",
    "\n",
    "# def justCity(var):\n",
    "#     varsplitted = var.split(\",\")\n",
    "#     newList = varsplitted[0]\n",
    "#     return newList\n",
    "# finalVar = [justCity(x) for x in df[\"Location\"].tolist()]\n",
    "# df[\"Location\"] = finalVar\n",
    "\n",
    "# df[\"Salary\"] = \"L\"\n",
    "# df.head()\n",
    "\n",
    "# df = df[(df.Location == 'New York') | (df.Location == 'Chicago') | (df.Location == 'San Francisco') | \n",
    "#         (df.Location == 'Austin') | (df.Location == \"Atlanta\") | (df.Location == \"Los Angeles\") | \n",
    "#         (df.Location == \"Washington\")]"
   ]
  },
  {
   "cell_type": "code",
   "execution_count": 4,
   "metadata": {
    "collapsed": false
   },
   "outputs": [],
   "source": [
    "# df.shape"
   ]
  },
  {
   "cell_type": "code",
   "execution_count": 5,
   "metadata": {
    "collapsed": true
   },
   "outputs": [],
   "source": [
    "# To remove duplicates in the data frame:\n",
    "# df.drop_duplicates([\"Company Name\", \"Job Summary\", \"Job Title\", \"Location\"], keep='last', inplace=True)"
   ]
  },
  {
   "cell_type": "code",
   "execution_count": 6,
   "metadata": {
    "collapsed": false
   },
   "outputs": [],
   "source": [
    "# df.shape"
   ]
  },
  {
   "cell_type": "code",
   "execution_count": 7,
   "metadata": {
    "collapsed": false,
    "scrolled": true
   },
   "outputs": [],
   "source": [
    "# Salaries $120,000 and above:\n",
    "# URL = \"http://www.indeed.com/jobs?q=data+scientist+%24120%2C000&l=\"\n",
    "\n",
    "# page_start_from = '&start='      \n",
    "# df2 = pd.DataFrame()   \n",
    " \n",
    "# for city in ('New+York%2C+NY', 'Chicago%2C+IL', 'San+Francisco%2C+CA', 'Austin%2C+TX',\n",
    "#             \"Atlanta%2C+GA\", \"Los+Angeles%2C+CA\", \"Washington%2C+DC\" ):\n",
    "#     for page in range(1,21): \n",
    "#         page = (page-1) * 10  \n",
    "#         url = \"%s%s%s%d\" % (URL, city, page_start_from, page) \n",
    "#         r = requests.get(url)\n",
    "#         soup = BeautifulSoup(r.content) \n",
    "#         results = soup.find_all(\"div\", {'class' : ' row result'}) \n",
    "    \n",
    "#         for i in range(len(results)):\n",
    "#             title    = results[i].find (\"a\", {\"class\": \"turnstileLink\"}).get_text().strip()\n",
    "#             company  = results[i].find (\"span\", {\"class\": \"company\"}).get_text().strip()\n",
    "#             location = results[i].find (\"span\", {\"class\": \"location\"}).get_text().strip()\n",
    "#             summary  = results[i].find (\"span\", {\"class\": \"summary\"}).get_text().strip()        \n",
    "        \n",
    "#             df2 = df2.append({\"Company Name\": company, \"Job Title\": title, \"Location\": location,\n",
    "#                             \"Job Summary\": summary}, ignore_index=True)\n",
    "\n",
    "# df2.head()"
   ]
  },
  {
   "cell_type": "code",
   "execution_count": 8,
   "metadata": {
    "collapsed": false
   },
   "outputs": [],
   "source": [
    "# I'll classify this data frame with a salary of \"H\" to represent jobs with higher salaries:\n",
    "\n",
    "# def justCity(var):\n",
    "#     varsplitted = var.split(\",\")\n",
    "#     newList = varsplitted[0]\n",
    "#     return newList\n",
    "# finalVar = [justCity(x) for x in df2[\"Location\"].tolist()]\n",
    "# df2[\"Location\"] = finalVar\n",
    "\n",
    "# df2[\"Salary\"] = \"H\"\n",
    "# df2 = df2[(df2.Location == 'New York') | (df2.Location == 'Chicago') | (df2.Location == 'San Francisco') | \n",
    "#           (df2.Location == 'Austin') | (df2.Location == \"Atlanta\") | (df2.Location == \"Los Angeles\") | \n",
    "#           (df2.Location == \"Washington\")]\n",
    "# df2"
   ]
  },
  {
   "cell_type": "code",
   "execution_count": 9,
   "metadata": {
    "collapsed": false
   },
   "outputs": [],
   "source": [
    "# df2.shape"
   ]
  },
  {
   "cell_type": "code",
   "execution_count": 10,
   "metadata": {
    "collapsed": false
   },
   "outputs": [],
   "source": [
    "# To remove duplicates:\n",
    "# df2.drop_duplicates([\"Company Name\", \"Job Summary\", \"Job Title\", \"Location\"], inplace=True)"
   ]
  },
  {
   "cell_type": "code",
   "execution_count": 11,
   "metadata": {
    "collapsed": false
   },
   "outputs": [],
   "source": [
    "# df2.shape"
   ]
  },
  {
   "cell_type": "code",
   "execution_count": 12,
   "metadata": {
    "collapsed": false,
    "scrolled": true
   },
   "outputs": [],
   "source": [
    "# To merged the the two data frames:\n",
    "# mergedDF = [df, df2]\n",
    "# newDF = pd.concat(mergedDF)\n",
    "# newDF"
   ]
  },
  {
   "cell_type": "code",
   "execution_count": 13,
   "metadata": {
    "collapsed": false
   },
   "outputs": [],
   "source": [
    "# newDF.shape"
   ]
  },
  {
   "cell_type": "markdown",
   "metadata": {},
   "source": [
    "Because the data frame with lower salaries also contain jobs with higher salaries, we want to remove the high salary jobs that are labelled \"L.\""
   ]
  },
  {
   "cell_type": "code",
   "execution_count": 14,
   "metadata": {
    "collapsed": false
   },
   "outputs": [],
   "source": [
    "# newDF.drop_duplicates([\"Company Name\", \"Job Summary\", \"Job Title\", \"Location\"], keep='last', inplace=True)"
   ]
  },
  {
   "cell_type": "code",
   "execution_count": 15,
   "metadata": {
    "collapsed": false
   },
   "outputs": [],
   "source": [
    "# newDF.shape"
   ]
  },
  {
   "cell_type": "code",
   "execution_count": 16,
   "metadata": {
    "collapsed": false
   },
   "outputs": [],
   "source": [
    "# newDF.index = range(len(newDF))\n",
    "# newDF.head()"
   ]
  },
  {
   "cell_type": "code",
   "execution_count": 17,
   "metadata": {
    "collapsed": false
   },
   "outputs": [],
   "source": [
    "# print newDF[ (newDF[\"Salary\"] == \"H\")].shape\n",
    "# print newDF[ (newDF[\"Salary\"] == \"L\")].shape"
   ]
  },
  {
   "cell_type": "code",
   "execution_count": 18,
   "metadata": {
    "collapsed": false,
    "scrolled": true
   },
   "outputs": [],
   "source": [
    "# To save the data frame as a csv file:\n",
    "# newDF.to_csv(\"../Assets/indeedSalaryJobs.csv\", encoding='utf-8', index=False)"
   ]
  },
  {
   "cell_type": "code",
   "execution_count": 19,
   "metadata": {
    "collapsed": false
   },
   "outputs": [],
   "source": [
    "# To open the csv file as a data frmae:\n",
    "data = pd.read_csv(\"../assets/indeedSalaryJobs.csv\")"
   ]
  },
  {
   "cell_type": "code",
   "execution_count": 20,
   "metadata": {
    "collapsed": false
   },
   "outputs": [
    {
     "data": {
      "text/html": [
       "<div>\n",
       "<table border=\"1\" class=\"dataframe\">\n",
       "  <thead>\n",
       "    <tr style=\"text-align: right;\">\n",
       "      <th></th>\n",
       "      <th>Company Name</th>\n",
       "      <th>Job Summary</th>\n",
       "      <th>Job Title</th>\n",
       "      <th>Location</th>\n",
       "      <th>Salary</th>\n",
       "    </tr>\n",
       "  </thead>\n",
       "  <tbody>\n",
       "    <tr>\n",
       "      <th>0</th>\n",
       "      <td>S&amp;P Global Ratings</td>\n",
       "      <td>Research and resolve data maintenance requests...</td>\n",
       "      <td>Statistician</td>\n",
       "      <td>New York</td>\n",
       "      <td>L</td>\n",
       "    </tr>\n",
       "    <tr>\n",
       "      <th>1</th>\n",
       "      <td>Bloomberg</td>\n",
       "      <td>Bloomberg's Global Data division houses an inc...</td>\n",
       "      <td>Machine Learning Engineer</td>\n",
       "      <td>New York</td>\n",
       "      <td>L</td>\n",
       "    </tr>\n",
       "    <tr>\n",
       "      <th>2</th>\n",
       "      <td>AllianceBernstein</td>\n",
       "      <td>Job Number: 7473 Position Title: VP/Research A...</td>\n",
       "      <td>Research Analyst</td>\n",
       "      <td>New York</td>\n",
       "      <td>L</td>\n",
       "    </tr>\n",
       "    <tr>\n",
       "      <th>3</th>\n",
       "      <td>Bloomberg</td>\n",
       "      <td>Evaluate cutting-edge big data technologies/so...</td>\n",
       "      <td>Senior Data Engineer for Search and Discoverab...</td>\n",
       "      <td>New York</td>\n",
       "      <td>L</td>\n",
       "    </tr>\n",
       "    <tr>\n",
       "      <th>4</th>\n",
       "      <td>eTemp</td>\n",
       "      <td>High growth company focused on using data scie...</td>\n",
       "      <td>Mid - Senior Level Data Scientist</td>\n",
       "      <td>New York</td>\n",
       "      <td>L</td>\n",
       "    </tr>\n",
       "  </tbody>\n",
       "</table>\n",
       "</div>"
      ],
      "text/plain": [
       "         Company Name                                        Job Summary  \\\n",
       "0  S&P Global Ratings  Research and resolve data maintenance requests...   \n",
       "1           Bloomberg  Bloomberg's Global Data division houses an inc...   \n",
       "2   AllianceBernstein  Job Number: 7473 Position Title: VP/Research A...   \n",
       "3           Bloomberg  Evaluate cutting-edge big data technologies/so...   \n",
       "4               eTemp  High growth company focused on using data scie...   \n",
       "\n",
       "                                           Job Title  Location Salary  \n",
       "0                                       Statistician  New York      L  \n",
       "1                          Machine Learning Engineer  New York      L  \n",
       "2                                   Research Analyst  New York      L  \n",
       "3  Senior Data Engineer for Search and Discoverab...  New York      L  \n",
       "4                  Mid - Senior Level Data Scientist  New York      L  "
      ]
     },
     "execution_count": 20,
     "metadata": {},
     "output_type": "execute_result"
    }
   ],
   "source": [
    "data.head()"
   ]
  },
  {
   "cell_type": "code",
   "execution_count": 21,
   "metadata": {
    "collapsed": false
   },
   "outputs": [],
   "source": [
    "# Label the \"H\" salaries with 1 and \"L\" salaries with 0:\n",
    "data[\"Salary\"] = data[\"Salary\"].map({\"H\": 1, \"L\": 0})"
   ]
  },
  {
   "cell_type": "markdown",
   "metadata": {},
   "source": [
    "Let's take a look at how salaries are spread across different cities:"
   ]
  },
  {
   "cell_type": "code",
   "execution_count": 22,
   "metadata": {
    "collapsed": false
   },
   "outputs": [
    {
     "data": {
      "text/html": [
       "<div>\n",
       "<table border=\"1\" class=\"dataframe\">\n",
       "  <thead>\n",
       "    <tr style=\"text-align: right;\">\n",
       "      <th>Location</th>\n",
       "      <th>Atlanta</th>\n",
       "      <th>Austin</th>\n",
       "      <th>Chicago</th>\n",
       "      <th>Los Angeles</th>\n",
       "      <th>New York</th>\n",
       "      <th>San Francisco</th>\n",
       "      <th>Washington</th>\n",
       "    </tr>\n",
       "    <tr>\n",
       "      <th>Salary</th>\n",
       "      <th></th>\n",
       "      <th></th>\n",
       "      <th></th>\n",
       "      <th></th>\n",
       "      <th></th>\n",
       "      <th></th>\n",
       "      <th></th>\n",
       "    </tr>\n",
       "  </thead>\n",
       "  <tbody>\n",
       "    <tr>\n",
       "      <th>0</th>\n",
       "      <td>119</td>\n",
       "      <td>138</td>\n",
       "      <td>128</td>\n",
       "      <td>68</td>\n",
       "      <td>117</td>\n",
       "      <td>88</td>\n",
       "      <td>77</td>\n",
       "    </tr>\n",
       "    <tr>\n",
       "      <th>1</th>\n",
       "      <td>34</td>\n",
       "      <td>31</td>\n",
       "      <td>78</td>\n",
       "      <td>26</td>\n",
       "      <td>172</td>\n",
       "      <td>131</td>\n",
       "      <td>37</td>\n",
       "    </tr>\n",
       "  </tbody>\n",
       "</table>\n",
       "</div>"
      ],
      "text/plain": [
       "Location  Atlanta  Austin  Chicago  Los Angeles  New York  San Francisco  \\\n",
       "Salary                                                                     \n",
       "0             119     138      128           68       117             88   \n",
       "1              34      31       78           26       172            131   \n",
       "\n",
       "Location  Washington  \n",
       "Salary                \n",
       "0                 77  \n",
       "1                 37  "
      ]
     },
     "execution_count": 22,
     "metadata": {},
     "output_type": "execute_result"
    }
   ],
   "source": [
    "pd.crosstab(data[\"Salary\"], data[\"Location\"], rownames = [\"Salary\"])"
   ]
  },
  {
   "cell_type": "code",
   "execution_count": 23,
   "metadata": {
    "collapsed": false,
    "scrolled": true
   },
   "outputs": [
    {
     "data": {
      "text/html": [
       "<div>\n",
       "<table border=\"1\" class=\"dataframe\">\n",
       "  <thead>\n",
       "    <tr style=\"text-align: right;\">\n",
       "      <th></th>\n",
       "      <th>Salary</th>\n",
       "      <th>Company Name</th>\n",
       "      <th>Job Summary</th>\n",
       "      <th>Job Title</th>\n",
       "      <th>Location</th>\n",
       "      <th>Atlanta</th>\n",
       "      <th>Austin</th>\n",
       "      <th>Chicago</th>\n",
       "      <th>Los Angeles</th>\n",
       "      <th>New York</th>\n",
       "      <th>San Francisco</th>\n",
       "      <th>Washington</th>\n",
       "    </tr>\n",
       "  </thead>\n",
       "  <tbody>\n",
       "    <tr>\n",
       "      <th>0</th>\n",
       "      <td>0</td>\n",
       "      <td>S&amp;P Global Ratings</td>\n",
       "      <td>Research and resolve data maintenance requests...</td>\n",
       "      <td>Statistician</td>\n",
       "      <td>New York</td>\n",
       "      <td>0.0</td>\n",
       "      <td>0.0</td>\n",
       "      <td>0.0</td>\n",
       "      <td>0.0</td>\n",
       "      <td>1.0</td>\n",
       "      <td>0.0</td>\n",
       "      <td>0.0</td>\n",
       "    </tr>\n",
       "    <tr>\n",
       "      <th>1</th>\n",
       "      <td>0</td>\n",
       "      <td>Bloomberg</td>\n",
       "      <td>Bloomberg's Global Data division houses an inc...</td>\n",
       "      <td>Machine Learning Engineer</td>\n",
       "      <td>New York</td>\n",
       "      <td>0.0</td>\n",
       "      <td>0.0</td>\n",
       "      <td>0.0</td>\n",
       "      <td>0.0</td>\n",
       "      <td>1.0</td>\n",
       "      <td>0.0</td>\n",
       "      <td>0.0</td>\n",
       "    </tr>\n",
       "    <tr>\n",
       "      <th>2</th>\n",
       "      <td>0</td>\n",
       "      <td>AllianceBernstein</td>\n",
       "      <td>Job Number: 7473 Position Title: VP/Research A...</td>\n",
       "      <td>Research Analyst</td>\n",
       "      <td>New York</td>\n",
       "      <td>0.0</td>\n",
       "      <td>0.0</td>\n",
       "      <td>0.0</td>\n",
       "      <td>0.0</td>\n",
       "      <td>1.0</td>\n",
       "      <td>0.0</td>\n",
       "      <td>0.0</td>\n",
       "    </tr>\n",
       "    <tr>\n",
       "      <th>3</th>\n",
       "      <td>0</td>\n",
       "      <td>Bloomberg</td>\n",
       "      <td>Evaluate cutting-edge big data technologies/so...</td>\n",
       "      <td>Senior Data Engineer for Search and Discoverab...</td>\n",
       "      <td>New York</td>\n",
       "      <td>0.0</td>\n",
       "      <td>0.0</td>\n",
       "      <td>0.0</td>\n",
       "      <td>0.0</td>\n",
       "      <td>1.0</td>\n",
       "      <td>0.0</td>\n",
       "      <td>0.0</td>\n",
       "    </tr>\n",
       "    <tr>\n",
       "      <th>4</th>\n",
       "      <td>0</td>\n",
       "      <td>eTemp</td>\n",
       "      <td>High growth company focused on using data scie...</td>\n",
       "      <td>Mid - Senior Level Data Scientist</td>\n",
       "      <td>New York</td>\n",
       "      <td>0.0</td>\n",
       "      <td>0.0</td>\n",
       "      <td>0.0</td>\n",
       "      <td>0.0</td>\n",
       "      <td>1.0</td>\n",
       "      <td>0.0</td>\n",
       "      <td>0.0</td>\n",
       "    </tr>\n",
       "  </tbody>\n",
       "</table>\n",
       "</div>"
      ],
      "text/plain": [
       "   Salary        Company Name  \\\n",
       "0       0  S&P Global Ratings   \n",
       "1       0           Bloomberg   \n",
       "2       0   AllianceBernstein   \n",
       "3       0           Bloomberg   \n",
       "4       0               eTemp   \n",
       "\n",
       "                                         Job Summary  \\\n",
       "0  Research and resolve data maintenance requests...   \n",
       "1  Bloomberg's Global Data division houses an inc...   \n",
       "2  Job Number: 7473 Position Title: VP/Research A...   \n",
       "3  Evaluate cutting-edge big data technologies/so...   \n",
       "4  High growth company focused on using data scie...   \n",
       "\n",
       "                                           Job Title  Location  Atlanta  \\\n",
       "0                                       Statistician  New York      0.0   \n",
       "1                          Machine Learning Engineer  New York      0.0   \n",
       "2                                   Research Analyst  New York      0.0   \n",
       "3  Senior Data Engineer for Search and Discoverab...  New York      0.0   \n",
       "4                  Mid - Senior Level Data Scientist  New York      0.0   \n",
       "\n",
       "   Austin  Chicago  Los Angeles  New York  San Francisco  Washington  \n",
       "0     0.0      0.0          0.0       1.0            0.0         0.0  \n",
       "1     0.0      0.0          0.0       1.0            0.0         0.0  \n",
       "2     0.0      0.0          0.0       1.0            0.0         0.0  \n",
       "3     0.0      0.0          0.0       1.0            0.0         0.0  \n",
       "4     0.0      0.0          0.0       1.0            0.0         0.0  "
      ]
     },
     "execution_count": 23,
     "metadata": {},
     "output_type": "execute_result"
    }
   ],
   "source": [
    "# To set the locations to dummy variables:\n",
    "dummyData = pd.get_dummies(data[\"Location\"])\n",
    "newData = data[[\"Salary\", \"Company Name\", \"Job Summary\", \"Job Title\", \"Location\"]].join(dummyData)\n",
    "newData.head()"
   ]
  },
  {
   "cell_type": "code",
   "execution_count": 24,
   "metadata": {
    "collapsed": false
   },
   "outputs": [
    {
     "data": {
      "text/plain": [
       "(1244, 12)"
      ]
     },
     "execution_count": 24,
     "metadata": {},
     "output_type": "execute_result"
    }
   ],
   "source": [
    "newData.shape"
   ]
  },
  {
   "cell_type": "code",
   "execution_count": 25,
   "metadata": {
    "collapsed": false
   },
   "outputs": [
    {
     "data": {
      "image/png": "[encoded data removed]",
      "text/plain": [
       "<IPython.core.display.Image object>"
      ]
     },
     "execution_count": 25,
     "metadata": {},
     "output_type": "execute_result"
    }
   ],
   "source": [
    "from IPython.display import Image\n",
    "Image(filename=\"../Assets/salaryByCity.png\")"
   ]
  },
  {
   "cell_type": "markdown",
   "metadata": {},
   "source": [
    "From the bar graph, we see that new York, has the highest number of high salary jobs, whilw austion has the hightest number of low salary jobs."
   ]
  },
  {
   "cell_type": "code",
   "execution_count": 26,
   "metadata": {
    "collapsed": false
   },
   "outputs": [
    {
     "data": {
      "text/plain": [
       "Salary             int64\n",
       "Company Name      object\n",
       "Job Summary       object\n",
       "Job Title         object\n",
       "Location          object\n",
       "Atlanta          float64\n",
       "Austin           float64\n",
       "Chicago          float64\n",
       "Los Angeles      float64\n",
       "New York         float64\n",
       "San Francisco    float64\n",
       "Washington       float64\n",
       "dtype: object"
      ]
     },
     "execution_count": 26,
     "metadata": {},
     "output_type": "execute_result"
    }
   ],
   "source": [
    "newData.dtypes"
   ]
  },
  {
   "cell_type": "markdown",
   "metadata": {},
   "source": [
    "The table below shows the description and the types of the column data:\n",
    "\n",
    "|Variable|Description|Variable Type|Data Type|\n",
    "|---|---|---|\n",
    "|Salary|High or Low Salary|Integer|Binary\n",
    "|Company Name|Name of the hiring company|Object|Unique|\n",
    "|Job Summary|Description of the |Object|Unique|\n",
    "|Job title|Job title|Object|Unique|\n",
    "|Location|SJob location|Object|Categorical|"
   ]
  },
  {
   "cell_type": "code",
   "execution_count": 27,
   "metadata": {
    "collapsed": false,
    "scrolled": true
   },
   "outputs": [
    {
     "name": "stderr",
     "output_type": "stream",
     "text": [
      "/Users/Lola/anaconda/lib/python2.7/site-packages/ipykernel/__main__.py:3: FutureWarning: using '+' to provide set union with Indexes is deprecated, use '|' or .union()\n",
      "  app.launch_new_instance()\n"
     ]
    }
   ],
   "source": [
    "# To select the columns we will be needing to create out model (we remove the New York column):\n",
    "newData[\"Intercept\"] = 1.0\n",
    "X = newData[ newData.columns[5:9] + newData.columns[10:] ]\n",
    "y = newData.Salary"
   ]
  },
  {
   "cell_type": "code",
   "execution_count": 28,
   "metadata": {
    "collapsed": true
   },
   "outputs": [],
   "source": [
    "from sklearn.linear_model import LogisticRegression\n",
    "from sklearn.cross_validation import train_test_split\n",
    "import statsmodels.api as sm\n",
    "from sklearn.metrics import confusion_matrix"
   ]
  },
  {
   "cell_type": "code",
   "execution_count": 29,
   "metadata": {
    "collapsed": false
   },
   "outputs": [
    {
     "name": "stdout",
     "output_type": "stream",
     "text": [
      "Optimization terminated successfully.\n",
      "         Current function value: 0.617467\n",
      "         Iterations 5\n"
     ]
    },
    {
     "data": {
      "text/html": [
       "<table class=\"simpletable\">\n",
       "<caption>Logit Regression Results</caption>\n",
       "<tr>\n",
       "  <th>Dep. Variable:</th>      <td>Salary</td>      <th>  No. Observations:  </th>  <td>  1244</td>  \n",
       "</tr>\n",
       "<tr>\n",
       "  <th>Model:</th>               <td>Logit</td>      <th>  Df Residuals:      </th>  <td>  1237</td>  \n",
       "</tr>\n",
       "<tr>\n",
       "  <th>Method:</th>               <td>MLE</td>       <th>  Df Model:          </th>  <td>     6</td>  \n",
       "</tr>\n",
       "<tr>\n",
       "  <th>Date:</th>          <td>Sat, 10 Sep 2016</td> <th>  Pseudo R-squ.:     </th>  <td>0.08733</td> \n",
       "</tr>\n",
       "<tr>\n",
       "  <th>Time:</th>              <td>21:55:50</td>     <th>  Log-Likelihood:    </th> <td> -768.13</td> \n",
       "</tr>\n",
       "<tr>\n",
       "  <th>converged:</th>           <td>True</td>       <th>  LL-Null:           </th> <td> -841.63</td> \n",
       "</tr>\n",
       "<tr>\n",
       "  <th> </th>                      <td> </td>        <th>  LLR p-value:       </th> <td>3.324e-29</td>\n",
       "</tr>\n",
       "</table>\n",
       "<table class=\"simpletable\">\n",
       "<tr>\n",
       "        <td></td>           <th>coef</th>     <th>std err</th>      <th>z</th>      <th>P>|z|</th>  <th>[0.025</th>    <th>0.975]</th>  \n",
       "</tr>\n",
       "<tr>\n",
       "  <th>Atlanta</th>       <td>   -1.6381</td> <td>    0.228</td> <td>   -7.171</td> <td> 0.000</td> <td>   -2.086</td> <td>   -1.190</td>\n",
       "</tr>\n",
       "<tr>\n",
       "  <th>Austin</th>        <td>   -1.8786</td> <td>    0.232</td> <td>   -8.094</td> <td> 0.000</td> <td>   -2.333</td> <td>   -1.424</td>\n",
       "</tr>\n",
       "<tr>\n",
       "  <th>Chicago</th>       <td>   -0.8806</td> <td>    0.187</td> <td>   -4.708</td> <td> 0.000</td> <td>   -1.247</td> <td>   -0.514</td>\n",
       "</tr>\n",
       "<tr>\n",
       "  <th>Intercept</th>     <td>    0.3853</td> <td>    0.120</td> <td>    3.215</td> <td> 0.001</td> <td>    0.150</td> <td>    0.620</td>\n",
       "</tr>\n",
       "<tr>\n",
       "  <th>Los Angeles</th>   <td>   -1.3467</td> <td>    0.260</td> <td>   -5.182</td> <td> 0.000</td> <td>   -1.856</td> <td>   -0.837</td>\n",
       "</tr>\n",
       "<tr>\n",
       "  <th>San Francisco</th> <td>    0.0125</td> <td>    0.183</td> <td>    0.069</td> <td> 0.945</td> <td>   -0.345</td> <td>    0.371</td>\n",
       "</tr>\n",
       "<tr>\n",
       "  <th>Washington</th>    <td>   -1.1182</td> <td>    0.233</td> <td>   -4.795</td> <td> 0.000</td> <td>   -1.575</td> <td>   -0.661</td>\n",
       "</tr>\n",
       "</table>"
      ],
      "text/plain": [
       "<class 'statsmodels.iolib.summary.Summary'>\n",
       "\"\"\"\n",
       "                           Logit Regression Results                           \n",
       "==============================================================================\n",
       "Dep. Variable:                 Salary   No. Observations:                 1244\n",
       "Model:                          Logit   Df Residuals:                     1237\n",
       "Method:                           MLE   Df Model:                            6\n",
       "Date:                Sat, 10 Sep 2016   Pseudo R-squ.:                 0.08733\n",
       "Time:                        21:55:50   Log-Likelihood:                -768.13\n",
       "converged:                       True   LL-Null:                       -841.63\n",
       "                                        LLR p-value:                 3.324e-29\n",
       "=================================================================================\n",
       "                    coef    std err          z      P>|z|      [0.025      0.975]\n",
       "---------------------------------------------------------------------------------\n",
       "Atlanta          -1.6381      0.228     -7.171      0.000      -2.086      -1.190\n",
       "Austin           -1.8786      0.232     -8.094      0.000      -2.333      -1.424\n",
       "Chicago          -0.8806      0.187     -4.708      0.000      -1.247      -0.514\n",
       "Intercept         0.3853      0.120      3.215      0.001       0.150       0.620\n",
       "Los Angeles      -1.3467      0.260     -5.182      0.000      -1.856      -0.837\n",
       "San Francisco     0.0125      0.183      0.069      0.945      -0.345       0.371\n",
       "Washington       -1.1182      0.233     -4.795      0.000      -1.575      -0.661\n",
       "=================================================================================\n",
       "\"\"\""
      ]
     },
     "execution_count": 29,
     "metadata": {},
     "output_type": "execute_result"
    }
   ],
   "source": [
    "#Logit regression using our entire data:\n",
    "logit = sm.Logit(y, X)\n",
    "result = logit.fit()\n",
    "result.summary()"
   ]
  },
  {
   "cell_type": "code",
   "execution_count": 32,
   "metadata": {
    "collapsed": false
   },
   "outputs": [
    {
     "data": {
      "text/html": [
       "<div>\n",
       "<table border=\"1\" class=\"dataframe\">\n",
       "  <thead>\n",
       "    <tr style=\"text-align: right;\">\n",
       "      <th></th>\n",
       "      <th>2.5%</th>\n",
       "      <th>97.5%</th>\n",
       "      <th>Coef</th>\n",
       "    </tr>\n",
       "  </thead>\n",
       "  <tbody>\n",
       "    <tr>\n",
       "      <th>Atlanta</th>\n",
       "      <td>0.124210</td>\n",
       "      <td>0.304104</td>\n",
       "      <td>0.194352</td>\n",
       "    </tr>\n",
       "    <tr>\n",
       "      <th>Austin</th>\n",
       "      <td>0.096958</td>\n",
       "      <td>0.240821</td>\n",
       "      <td>0.152806</td>\n",
       "    </tr>\n",
       "    <tr>\n",
       "      <th>Chicago</th>\n",
       "      <td>0.287283</td>\n",
       "      <td>0.598100</td>\n",
       "      <td>0.414517</td>\n",
       "    </tr>\n",
       "    <tr>\n",
       "      <th>Intercept</th>\n",
       "      <td>1.162350</td>\n",
       "      <td>1.859295</td>\n",
       "      <td>1.470085</td>\n",
       "    </tr>\n",
       "    <tr>\n",
       "      <th>Los Angeles</th>\n",
       "      <td>0.156288</td>\n",
       "      <td>0.432830</td>\n",
       "      <td>0.260089</td>\n",
       "    </tr>\n",
       "    <tr>\n",
       "      <th>San Francisco</th>\n",
       "      <td>0.707914</td>\n",
       "      <td>1.448476</td>\n",
       "      <td>1.012619</td>\n",
       "    </tr>\n",
       "    <tr>\n",
       "      <th>Washington</th>\n",
       "      <td>0.206958</td>\n",
       "      <td>0.516244</td>\n",
       "      <td>0.326865</td>\n",
       "    </tr>\n",
       "  </tbody>\n",
       "</table>\n",
       "</div>"
      ],
      "text/plain": [
       "                   2.5%     97.5%      Coef\n",
       "Atlanta        0.124210  0.304104  0.194352\n",
       "Austin         0.096958  0.240821  0.152806\n",
       "Chicago        0.287283  0.598100  0.414517\n",
       "Intercept      1.162350  1.859295  1.470085\n",
       "Los Angeles    0.156288  0.432830  0.260089\n",
       "San Francisco  0.707914  1.448476  1.012619\n",
       "Washington     0.206958  0.516244  0.326865"
      ]
     },
     "execution_count": 32,
     "metadata": {},
     "output_type": "execute_result"
    }
   ],
   "source": [
    "confInt = result.conf_int()\n",
    "confInt[\"Coef\"] = result.params\n",
    "confInt.columns = [\"2.5%\", \"97.5%\", \"Coef\"]\n",
    "np.exp(confInt)"
   ]
  },
  {
   "cell_type": "markdown",
   "metadata": {},
   "source": [
    "Our base city for thian anylists is New York. Fromt tha table, we see that if the data scientist is from Atlanta, Austin , Chicago, Los Angeles, San Francisco or Washington (with a starting point from New York), the odds ratio of getting a high salary increasees by 0.12, 0.1, 0.29, 0.16, 0.7, or 0.2 respectively. We see that the odds are greater for a high salary if the Data Scientist is from San Francisco. San Francisco, however, has a high p-value and is therefore statistically insignificant when alpha=0.05., i.e. San Francisco has no statistical impact on the odds of earning a high salary."
   ]
  },
  {
   "cell_type": "code",
   "execution_count": 33,
   "metadata": {
    "collapsed": false
   },
   "outputs": [
    {
     "name": "stderr",
     "output_type": "stream",
     "text": [
      "/Users/Lola/anaconda/lib/python2.7/site-packages/ipykernel/__main__.py:2: SettingWithCopyWarning: \n",
      "A value is trying to be set on a copy of a slice from a DataFrame.\n",
      "Try using .loc[row_indexer,col_indexer] = value instead\n",
      "\n",
      "See the caveats in the documentation: http://pandas.pydata.org/pandas-docs/stable/indexing.html#indexing-view-versus-copy\n",
      "  from ipykernel import kernelapp as app\n",
      "/Users/Lola/anaconda/lib/python2.7/site-packages/ipykernel/__main__.py:5: SettingWithCopyWarning: \n",
      "A value is trying to be set on a copy of a slice from a DataFrame.\n",
      "Try using .loc[row_indexer,col_indexer] = value instead\n",
      "\n",
      "See the caveats in the documentation: http://pandas.pydata.org/pandas-docs/stable/indexing.html#indexing-view-versus-copy\n"
     ]
    },
    {
     "data": {
      "text/html": [
       "<div>\n",
       "<table border=\"1\" class=\"dataframe\">\n",
       "  <thead>\n",
       "    <tr style=\"text-align: right;\">\n",
       "      <th></th>\n",
       "      <th>Atlanta</th>\n",
       "      <th>Austin</th>\n",
       "      <th>Chicago</th>\n",
       "      <th>Intercept</th>\n",
       "      <th>Los Angeles</th>\n",
       "      <th>San Francisco</th>\n",
       "      <th>Washington</th>\n",
       "      <th>actualSalary</th>\n",
       "      <th>predictedSalary</th>\n",
       "    </tr>\n",
       "  </thead>\n",
       "  <tbody>\n",
       "    <tr>\n",
       "      <th>0</th>\n",
       "      <td>0.0</td>\n",
       "      <td>0.0</td>\n",
       "      <td>0.0</td>\n",
       "      <td>1.0</td>\n",
       "      <td>0.0</td>\n",
       "      <td>0.0</td>\n",
       "      <td>0.0</td>\n",
       "      <td>0</td>\n",
       "      <td>0.595156</td>\n",
       "    </tr>\n",
       "    <tr>\n",
       "      <th>1</th>\n",
       "      <td>0.0</td>\n",
       "      <td>0.0</td>\n",
       "      <td>0.0</td>\n",
       "      <td>1.0</td>\n",
       "      <td>0.0</td>\n",
       "      <td>0.0</td>\n",
       "      <td>0.0</td>\n",
       "      <td>0</td>\n",
       "      <td>0.595156</td>\n",
       "    </tr>\n",
       "    <tr>\n",
       "      <th>2</th>\n",
       "      <td>0.0</td>\n",
       "      <td>0.0</td>\n",
       "      <td>0.0</td>\n",
       "      <td>1.0</td>\n",
       "      <td>0.0</td>\n",
       "      <td>0.0</td>\n",
       "      <td>0.0</td>\n",
       "      <td>0</td>\n",
       "      <td>0.595156</td>\n",
       "    </tr>\n",
       "    <tr>\n",
       "      <th>3</th>\n",
       "      <td>0.0</td>\n",
       "      <td>0.0</td>\n",
       "      <td>0.0</td>\n",
       "      <td>1.0</td>\n",
       "      <td>0.0</td>\n",
       "      <td>0.0</td>\n",
       "      <td>0.0</td>\n",
       "      <td>0</td>\n",
       "      <td>0.595156</td>\n",
       "    </tr>\n",
       "    <tr>\n",
       "      <th>4</th>\n",
       "      <td>0.0</td>\n",
       "      <td>0.0</td>\n",
       "      <td>0.0</td>\n",
       "      <td>1.0</td>\n",
       "      <td>0.0</td>\n",
       "      <td>0.0</td>\n",
       "      <td>0.0</td>\n",
       "      <td>0</td>\n",
       "      <td>0.595156</td>\n",
       "    </tr>\n",
       "  </tbody>\n",
       "</table>\n",
       "</div>"
      ],
      "text/plain": [
       "   Atlanta  Austin  Chicago  Intercept  Los Angeles  San Francisco  \\\n",
       "0      0.0     0.0      0.0        1.0          0.0            0.0   \n",
       "1      0.0     0.0      0.0        1.0          0.0            0.0   \n",
       "2      0.0     0.0      0.0        1.0          0.0            0.0   \n",
       "3      0.0     0.0      0.0        1.0          0.0            0.0   \n",
       "4      0.0     0.0      0.0        1.0          0.0            0.0   \n",
       "\n",
       "   Washington  actualSalary  predictedSalary  \n",
       "0         0.0             0         0.595156  \n",
       "1         0.0             0         0.595156  \n",
       "2         0.0             0         0.595156  \n",
       "3         0.0             0         0.595156  \n",
       "4         0.0             0         0.595156  "
      ]
     },
     "execution_count": 33,
     "metadata": {},
     "output_type": "execute_result"
    }
   ],
   "source": [
    "# To make comparisons between actual salaries and salaries predicted by the model:\n",
    "X[\"actualSalary\"] = y\n",
    "dFrame = X\n",
    "dFrame.head()\n",
    "dFrame['predictedSalary'] = result.predict( dFrame[ dFrame.columns[0:7] ] )\n",
    "dFrame.head()"
   ]
  },
  {
   "cell_type": "code",
   "execution_count": 34,
   "metadata": {
    "collapsed": false
   },
   "outputs": [
    {
     "name": "stderr",
     "output_type": "stream",
     "text": [
      "/Users/Lola/anaconda/lib/python2.7/site-packages/ipykernel/__main__.py:3: SettingWithCopyWarning: \n",
      "A value is trying to be set on a copy of a slice from a DataFrame.\n",
      "Try using .loc[row_indexer,col_indexer] = value instead\n",
      "\n",
      "See the caveats in the documentation: http://pandas.pydata.org/pandas-docs/stable/indexing.html#indexing-view-versus-copy\n",
      "  app.launch_new_instance()\n"
     ]
    },
    {
     "data": {
      "text/html": [
       "<div>\n",
       "<table border=\"1\" class=\"dataframe\">\n",
       "  <thead>\n",
       "    <tr style=\"text-align: right;\">\n",
       "      <th></th>\n",
       "      <th>Atlanta</th>\n",
       "      <th>Austin</th>\n",
       "      <th>Chicago</th>\n",
       "      <th>Intercept</th>\n",
       "      <th>Los Angeles</th>\n",
       "      <th>San Francisco</th>\n",
       "      <th>Washington</th>\n",
       "      <th>actualSalary</th>\n",
       "      <th>predictedSalary</th>\n",
       "      <th>approxPredict</th>\n",
       "    </tr>\n",
       "  </thead>\n",
       "  <tbody>\n",
       "    <tr>\n",
       "      <th>0</th>\n",
       "      <td>0.0</td>\n",
       "      <td>0.0</td>\n",
       "      <td>0.0</td>\n",
       "      <td>1.0</td>\n",
       "      <td>0.0</td>\n",
       "      <td>0.0</td>\n",
       "      <td>0.0</td>\n",
       "      <td>0</td>\n",
       "      <td>0.595156</td>\n",
       "      <td>1</td>\n",
       "    </tr>\n",
       "    <tr>\n",
       "      <th>1</th>\n",
       "      <td>0.0</td>\n",
       "      <td>0.0</td>\n",
       "      <td>0.0</td>\n",
       "      <td>1.0</td>\n",
       "      <td>0.0</td>\n",
       "      <td>0.0</td>\n",
       "      <td>0.0</td>\n",
       "      <td>0</td>\n",
       "      <td>0.595156</td>\n",
       "      <td>1</td>\n",
       "    </tr>\n",
       "    <tr>\n",
       "      <th>2</th>\n",
       "      <td>0.0</td>\n",
       "      <td>0.0</td>\n",
       "      <td>0.0</td>\n",
       "      <td>1.0</td>\n",
       "      <td>0.0</td>\n",
       "      <td>0.0</td>\n",
       "      <td>0.0</td>\n",
       "      <td>0</td>\n",
       "      <td>0.595156</td>\n",
       "      <td>1</td>\n",
       "    </tr>\n",
       "    <tr>\n",
       "      <th>3</th>\n",
       "      <td>0.0</td>\n",
       "      <td>0.0</td>\n",
       "      <td>0.0</td>\n",
       "      <td>1.0</td>\n",
       "      <td>0.0</td>\n",
       "      <td>0.0</td>\n",
       "      <td>0.0</td>\n",
       "      <td>0</td>\n",
       "      <td>0.595156</td>\n",
       "      <td>1</td>\n",
       "    </tr>\n",
       "    <tr>\n",
       "      <th>4</th>\n",
       "      <td>0.0</td>\n",
       "      <td>0.0</td>\n",
       "      <td>0.0</td>\n",
       "      <td>1.0</td>\n",
       "      <td>0.0</td>\n",
       "      <td>0.0</td>\n",
       "      <td>0.0</td>\n",
       "      <td>0</td>\n",
       "      <td>0.595156</td>\n",
       "      <td>1</td>\n",
       "    </tr>\n",
       "  </tbody>\n",
       "</table>\n",
       "</div>"
      ],
      "text/plain": [
       "   Atlanta  Austin  Chicago  Intercept  Los Angeles  San Francisco  \\\n",
       "0      0.0     0.0      0.0        1.0          0.0            0.0   \n",
       "1      0.0     0.0      0.0        1.0          0.0            0.0   \n",
       "2      0.0     0.0      0.0        1.0          0.0            0.0   \n",
       "3      0.0     0.0      0.0        1.0          0.0            0.0   \n",
       "4      0.0     0.0      0.0        1.0          0.0            0.0   \n",
       "\n",
       "   Washington  actualSalary  predictedSalary  approxPredict  \n",
       "0         0.0             0         0.595156              1  \n",
       "1         0.0             0         0.595156              1  \n",
       "2         0.0             0         0.595156              1  \n",
       "3         0.0             0         0.595156              1  \n",
       "4         0.0             0         0.595156              1  "
      ]
     },
     "execution_count": 34,
     "metadata": {},
     "output_type": "execute_result"
    }
   ],
   "source": [
    "abc = dFrame[\"predictedSalary\"]\n",
    "cutoff = 0.5\n",
    "dFrame[\"approxPredict\"] = [0 if i < cutoff else 1 for i in abc]\n",
    "dFrame.head()"
   ]
  },
  {
   "cell_type": "code",
   "execution_count": 35,
   "metadata": {
    "collapsed": false
   },
   "outputs": [
    {
     "name": "stdout",
     "output_type": "stream",
     "text": [
      "approxPredict    0    1\n",
      "actual                 \n",
      "0              530  205\n",
      "1              206  303\n"
     ]
    }
   ],
   "source": [
    "# Confusion matrix:\n",
    "print pd.crosstab(\n",
    "                    dFrame[\"actualSalary\"],\n",
    "                    dFrame[\"approxPredict\"], \n",
    "                    rownames=[\"actual\"]\n",
    "                 )"
   ]
  },
  {
   "cell_type": "code",
   "execution_count": 36,
   "metadata": {
    "collapsed": false
   },
   "outputs": [],
   "source": [
    "from sklearn.metrics import classification_report"
   ]
  },
  {
   "cell_type": "code",
   "execution_count": 37,
   "metadata": {
    "collapsed": false
   },
   "outputs": [
    {
     "name": "stdout",
     "output_type": "stream",
     "text": [
      "             precision    recall  f1-score   support\n",
      "\n",
      " Low Salary       0.72      0.72      0.72       735\n",
      "High Salary       0.60      0.60      0.60       509\n",
      "\n",
      "avg / total       0.67      0.67      0.67      1244\n",
      "\n"
     ]
    }
   ],
   "source": [
    "# Again, 0 means Low Salary and 1 means High Salary\n",
    "target    = dFrame[\"actualSalary\"].tolist()\n",
    "\n",
    "predicted = dFrame[\"approxPredict\"].tolist()\n",
    "\n",
    "target_names = ['Low Salary', 'High Salary']\n",
    "\n",
    "print(classification_report(target, predicted, target_names=target_names))\n",
    "\n"
   ]
  },
  {
   "cell_type": "markdown",
   "metadata": {},
   "source": [
    "From our classification report, we see that our first model all have an average precision, recall and F1-score of 67%."
   ]
  },
  {
   "cell_type": "markdown",
   "metadata": {},
   "source": [
    "Now, we want to create another logistic regression model with cross validation:"
   ]
  },
  {
   "cell_type": "code",
   "execution_count": 38,
   "metadata": {
    "collapsed": false
   },
   "outputs": [
    {
     "name": "stderr",
     "output_type": "stream",
     "text": [
      "/Users/Lola/anaconda/lib/python2.7/site-packages/ipykernel/__main__.py:2: FutureWarning: using '+' to provide set union with Indexes is deprecated, use '|' or .union()\n",
      "  from ipykernel import kernelapp as app\n"
     ]
    }
   ],
   "source": [
    "newData[\"Intercept\"] = 1.0\n",
    "X = newData[ newData.columns[5:9] + newData.columns[10:] ]\n",
    "y = newData.Salary"
   ]
  },
  {
   "cell_type": "code",
   "execution_count": 39,
   "metadata": {
    "collapsed": false,
    "scrolled": true
   },
   "outputs": [
    {
     "name": "stdout",
     "output_type": "stream",
     "text": [
      "Optimization terminated successfully.\n",
      "         Current function value: 0.607238\n",
      "         Iterations 6\n"
     ]
    },
    {
     "data": {
      "text/html": [
       "<table class=\"simpletable\">\n",
       "<caption>Logit Regression Results</caption>\n",
       "<tr>\n",
       "  <th>Dep. Variable:</th>      <td>Salary</td>      <th>  No. Observations:  </th>  <td>   870</td>  \n",
       "</tr>\n",
       "<tr>\n",
       "  <th>Model:</th>               <td>Logit</td>      <th>  Df Residuals:      </th>  <td>   863</td>  \n",
       "</tr>\n",
       "<tr>\n",
       "  <th>Method:</th>               <td>MLE</td>       <th>  Df Model:          </th>  <td>     6</td>  \n",
       "</tr>\n",
       "<tr>\n",
       "  <th>Date:</th>          <td>Sat, 10 Sep 2016</td> <th>  Pseudo R-squ.:     </th>  <td>0.09516</td> \n",
       "</tr>\n",
       "<tr>\n",
       "  <th>Time:</th>              <td>21:56:34</td>     <th>  Log-Likelihood:    </th> <td> -528.30</td> \n",
       "</tr>\n",
       "<tr>\n",
       "  <th>converged:</th>           <td>True</td>       <th>  LL-Null:           </th> <td> -583.86</td> \n",
       "</tr>\n",
       "<tr>\n",
       "  <th> </th>                      <td> </td>        <th>  LLR p-value:       </th> <td>1.185e-21</td>\n",
       "</tr>\n",
       "</table>\n",
       "<table class=\"simpletable\">\n",
       "<tr>\n",
       "        <td></td>           <th>coef</th>     <th>std err</th>      <th>z</th>      <th>P>|z|</th>  <th>[0.025</th>    <th>0.975]</th>  \n",
       "</tr>\n",
       "<tr>\n",
       "  <th>Atlanta</th>       <td>   -1.9557</td> <td>    0.296</td> <td>   -6.615</td> <td> 0.000</td> <td>   -2.535</td> <td>   -1.376</td>\n",
       "</tr>\n",
       "<tr>\n",
       "  <th>Austin</th>        <td>   -1.7212</td> <td>    0.274</td> <td>   -6.276</td> <td> 0.000</td> <td>   -2.259</td> <td>   -1.184</td>\n",
       "</tr>\n",
       "<tr>\n",
       "  <th>Chicago</th>       <td>   -0.8734</td> <td>    0.227</td> <td>   -3.856</td> <td> 0.000</td> <td>   -1.317</td> <td>   -0.429</td>\n",
       "</tr>\n",
       "<tr>\n",
       "  <th>Intercept</th>     <td>    0.3028</td> <td>    0.146</td> <td>    2.080</td> <td> 0.038</td> <td>    0.017</td> <td>    0.588</td>\n",
       "</tr>\n",
       "<tr>\n",
       "  <th>Los Angeles</th>   <td>   -1.1295</td> <td>    0.299</td> <td>   -3.772</td> <td> 0.000</td> <td>   -1.716</td> <td>   -0.543</td>\n",
       "</tr>\n",
       "<tr>\n",
       "  <th>San Francisco</th> <td>    0.1402</td> <td>    0.219</td> <td>    0.639</td> <td> 0.523</td> <td>   -0.290</td> <td>    0.570</td>\n",
       "</tr>\n",
       "<tr>\n",
       "  <th>Washington</th>    <td>   -1.1137</td> <td>    0.285</td> <td>   -3.904</td> <td> 0.000</td> <td>   -1.673</td> <td>   -0.555</td>\n",
       "</tr>\n",
       "</table>"
      ],
      "text/plain": [
       "<class 'statsmodels.iolib.summary.Summary'>\n",
       "\"\"\"\n",
       "                           Logit Regression Results                           \n",
       "==============================================================================\n",
       "Dep. Variable:                 Salary   No. Observations:                  870\n",
       "Model:                          Logit   Df Residuals:                      863\n",
       "Method:                           MLE   Df Model:                            6\n",
       "Date:                Sat, 10 Sep 2016   Pseudo R-squ.:                 0.09516\n",
       "Time:                        21:56:34   Log-Likelihood:                -528.30\n",
       "converged:                       True   LL-Null:                       -583.86\n",
       "                                        LLR p-value:                 1.185e-21\n",
       "=================================================================================\n",
       "                    coef    std err          z      P>|z|      [0.025      0.975]\n",
       "---------------------------------------------------------------------------------\n",
       "Atlanta          -1.9557      0.296     -6.615      0.000      -2.535      -1.376\n",
       "Austin           -1.7212      0.274     -6.276      0.000      -2.259      -1.184\n",
       "Chicago          -0.8734      0.227     -3.856      0.000      -1.317      -0.429\n",
       "Intercept         0.3028      0.146      2.080      0.038       0.017       0.588\n",
       "Los Angeles      -1.1295      0.299     -3.772      0.000      -1.716      -0.543\n",
       "San Francisco     0.1402      0.219      0.639      0.523      -0.290       0.570\n",
       "Washington       -1.1137      0.285     -3.904      0.000      -1.673      -0.555\n",
       "=================================================================================\n",
       "\"\"\""
      ]
     },
     "execution_count": 39,
     "metadata": {},
     "output_type": "execute_result"
    }
   ],
   "source": [
    "# Divide the data where 70% of the data is trained and tested on the remaining 30%.\n",
    "X_train, X_test, y_train, y_test = train_test_split(X, y, train_size=0.70, random_state=15)\n",
    "\n",
    "logit = sm.Logit(y_train, X_train)\n",
    "result = logit.fit()\n",
    "result.summary()"
   ]
  },
  {
   "cell_type": "code",
   "execution_count": 40,
   "metadata": {
    "collapsed": false
   },
   "outputs": [
    {
     "data": {
      "text/html": [
       "<div>\n",
       "<table border=\"1\" class=\"dataframe\">\n",
       "  <thead>\n",
       "    <tr style=\"text-align: right;\">\n",
       "      <th></th>\n",
       "      <th>2.5%</th>\n",
       "      <th>97.5%</th>\n",
       "      <th>Coef</th>\n",
       "    </tr>\n",
       "  </thead>\n",
       "  <tbody>\n",
       "    <tr>\n",
       "      <th>Atlanta</th>\n",
       "      <td>0.079249</td>\n",
       "      <td>0.252509</td>\n",
       "      <td>0.141461</td>\n",
       "    </tr>\n",
       "    <tr>\n",
       "      <th>Austin</th>\n",
       "      <td>0.104486</td>\n",
       "      <td>0.306147</td>\n",
       "      <td>0.178853</td>\n",
       "    </tr>\n",
       "    <tr>\n",
       "      <th>Chicago</th>\n",
       "      <td>0.267858</td>\n",
       "      <td>0.650890</td>\n",
       "      <td>0.417548</td>\n",
       "    </tr>\n",
       "    <tr>\n",
       "      <th>Intercept</th>\n",
       "      <td>1.017560</td>\n",
       "      <td>1.800769</td>\n",
       "      <td>1.353659</td>\n",
       "    </tr>\n",
       "    <tr>\n",
       "      <th>Los Angeles</th>\n",
       "      <td>0.179720</td>\n",
       "      <td>0.581221</td>\n",
       "      <td>0.323198</td>\n",
       "    </tr>\n",
       "    <tr>\n",
       "      <th>San Francisco</th>\n",
       "      <td>0.748437</td>\n",
       "      <td>1.768537</td>\n",
       "      <td>1.150495</td>\n",
       "    </tr>\n",
       "    <tr>\n",
       "      <th>Washington</th>\n",
       "      <td>0.187703</td>\n",
       "      <td>0.574310</td>\n",
       "      <td>0.328328</td>\n",
       "    </tr>\n",
       "  </tbody>\n",
       "</table>\n",
       "</div>"
      ],
      "text/plain": [
       "                   2.5%     97.5%      Coef\n",
       "Atlanta        0.079249  0.252509  0.141461\n",
       "Austin         0.104486  0.306147  0.178853\n",
       "Chicago        0.267858  0.650890  0.417548\n",
       "Intercept      1.017560  1.800769  1.353659\n",
       "Los Angeles    0.179720  0.581221  0.323198\n",
       "San Francisco  0.748437  1.768537  1.150495\n",
       "Washington     0.187703  0.574310  0.328328"
      ]
     },
     "execution_count": 40,
     "metadata": {},
     "output_type": "execute_result"
    }
   ],
   "source": [
    "confInt = result.conf_int()\n",
    "confInt[\"Coef\"] = result.params\n",
    "confInt.columns = [\"2.5%\", \"97.5%\", \"Coef\"]\n",
    "np.exp(confInt)"
   ]
  },
  {
   "cell_type": "code",
   "execution_count": 41,
   "metadata": {
    "collapsed": false,
    "scrolled": true
   },
   "outputs": [
    {
     "name": "stderr",
     "output_type": "stream",
     "text": [
      "/Users/Lola/anaconda/lib/python2.7/site-packages/ipykernel/__main__.py:2: SettingWithCopyWarning: \n",
      "A value is trying to be set on a copy of a slice from a DataFrame.\n",
      "Try using .loc[row_indexer,col_indexer] = value instead\n",
      "\n",
      "See the caveats in the documentation: http://pandas.pydata.org/pandas-docs/stable/indexing.html#indexing-view-versus-copy\n",
      "  from ipykernel import kernelapp as app\n",
      "/Users/Lola/anaconda/lib/python2.7/site-packages/ipykernel/__main__.py:5: SettingWithCopyWarning: \n",
      "A value is trying to be set on a copy of a slice from a DataFrame.\n",
      "Try using .loc[row_indexer,col_indexer] = value instead\n",
      "\n",
      "See the caveats in the documentation: http://pandas.pydata.org/pandas-docs/stable/indexing.html#indexing-view-versus-copy\n"
     ]
    },
    {
     "data": {
      "text/html": [
       "<div>\n",
       "<table border=\"1\" class=\"dataframe\">\n",
       "  <thead>\n",
       "    <tr style=\"text-align: right;\">\n",
       "      <th></th>\n",
       "      <th>Atlanta</th>\n",
       "      <th>Austin</th>\n",
       "      <th>Chicago</th>\n",
       "      <th>Intercept</th>\n",
       "      <th>Los Angeles</th>\n",
       "      <th>San Francisco</th>\n",
       "      <th>Washington</th>\n",
       "      <th>actualSalary</th>\n",
       "      <th>predictedSalary</th>\n",
       "    </tr>\n",
       "  </thead>\n",
       "  <tbody>\n",
       "    <tr>\n",
       "      <th>917</th>\n",
       "      <td>0.0</td>\n",
       "      <td>0.0</td>\n",
       "      <td>1.0</td>\n",
       "      <td>1.0</td>\n",
       "      <td>0.0</td>\n",
       "      <td>0.0</td>\n",
       "      <td>0.0</td>\n",
       "      <td>1</td>\n",
       "      <td>0.361111</td>\n",
       "    </tr>\n",
       "    <tr>\n",
       "      <th>77</th>\n",
       "      <td>0.0</td>\n",
       "      <td>0.0</td>\n",
       "      <td>0.0</td>\n",
       "      <td>1.0</td>\n",
       "      <td>0.0</td>\n",
       "      <td>0.0</td>\n",
       "      <td>0.0</td>\n",
       "      <td>0</td>\n",
       "      <td>0.575130</td>\n",
       "    </tr>\n",
       "    <tr>\n",
       "      <th>408</th>\n",
       "      <td>0.0</td>\n",
       "      <td>1.0</td>\n",
       "      <td>0.0</td>\n",
       "      <td>1.0</td>\n",
       "      <td>0.0</td>\n",
       "      <td>0.0</td>\n",
       "      <td>0.0</td>\n",
       "      <td>0</td>\n",
       "      <td>0.194915</td>\n",
       "    </tr>\n",
       "    <tr>\n",
       "      <th>94</th>\n",
       "      <td>0.0</td>\n",
       "      <td>0.0</td>\n",
       "      <td>0.0</td>\n",
       "      <td>1.0</td>\n",
       "      <td>0.0</td>\n",
       "      <td>0.0</td>\n",
       "      <td>0.0</td>\n",
       "      <td>0</td>\n",
       "      <td>0.575130</td>\n",
       "    </tr>\n",
       "    <tr>\n",
       "      <th>1187</th>\n",
       "      <td>0.0</td>\n",
       "      <td>0.0</td>\n",
       "      <td>0.0</td>\n",
       "      <td>1.0</td>\n",
       "      <td>1.0</td>\n",
       "      <td>0.0</td>\n",
       "      <td>0.0</td>\n",
       "      <td>1</td>\n",
       "      <td>0.304348</td>\n",
       "    </tr>\n",
       "  </tbody>\n",
       "</table>\n",
       "</div>"
      ],
      "text/plain": [
       "      Atlanta  Austin  Chicago  Intercept  Los Angeles  San Francisco  \\\n",
       "917       0.0     0.0      1.0        1.0          0.0            0.0   \n",
       "77        0.0     0.0      0.0        1.0          0.0            0.0   \n",
       "408       0.0     1.0      0.0        1.0          0.0            0.0   \n",
       "94        0.0     0.0      0.0        1.0          0.0            0.0   \n",
       "1187      0.0     0.0      0.0        1.0          1.0            0.0   \n",
       "\n",
       "      Washington  actualSalary  predictedSalary  \n",
       "917          0.0             1         0.361111  \n",
       "77           0.0             0         0.575130  \n",
       "408          0.0             0         0.194915  \n",
       "94           0.0             0         0.575130  \n",
       "1187         0.0             1         0.304348  "
      ]
     },
     "execution_count": 41,
     "metadata": {},
     "output_type": "execute_result"
    }
   ],
   "source": [
    "# compare between the actual and predicted salaries.\n",
    "X_test[\"actualSalary\"] = y_test\n",
    "dfTrain = X_test\n",
    "#dfTrain.head()\n",
    "dfTrain['predictedSalary'] = result.predict( dfTrain[ dfTrain.columns[0:7] ] )\n",
    "dfTrain.head()"
   ]
  },
  {
   "cell_type": "code",
   "execution_count": 42,
   "metadata": {
    "collapsed": false
   },
   "outputs": [
    {
     "name": "stderr",
     "output_type": "stream",
     "text": [
      "/Users/Lola/anaconda/lib/python2.7/site-packages/ipykernel/__main__.py:3: SettingWithCopyWarning: \n",
      "A value is trying to be set on a copy of a slice from a DataFrame.\n",
      "Try using .loc[row_indexer,col_indexer] = value instead\n",
      "\n",
      "See the caveats in the documentation: http://pandas.pydata.org/pandas-docs/stable/indexing.html#indexing-view-versus-copy\n",
      "  app.launch_new_instance()\n"
     ]
    },
    {
     "data": {
      "text/html": [
       "<div>\n",
       "<table border=\"1\" class=\"dataframe\">\n",
       "  <thead>\n",
       "    <tr style=\"text-align: right;\">\n",
       "      <th></th>\n",
       "      <th>Atlanta</th>\n",
       "      <th>Austin</th>\n",
       "      <th>Chicago</th>\n",
       "      <th>Intercept</th>\n",
       "      <th>Los Angeles</th>\n",
       "      <th>San Francisco</th>\n",
       "      <th>Washington</th>\n",
       "      <th>actualSalary</th>\n",
       "      <th>predictedSalary</th>\n",
       "      <th>approxPredict</th>\n",
       "    </tr>\n",
       "  </thead>\n",
       "  <tbody>\n",
       "    <tr>\n",
       "      <th>917</th>\n",
       "      <td>0.0</td>\n",
       "      <td>0.0</td>\n",
       "      <td>1.0</td>\n",
       "      <td>1.0</td>\n",
       "      <td>0.0</td>\n",
       "      <td>0.0</td>\n",
       "      <td>0.0</td>\n",
       "      <td>1</td>\n",
       "      <td>0.361111</td>\n",
       "      <td>0</td>\n",
       "    </tr>\n",
       "    <tr>\n",
       "      <th>77</th>\n",
       "      <td>0.0</td>\n",
       "      <td>0.0</td>\n",
       "      <td>0.0</td>\n",
       "      <td>1.0</td>\n",
       "      <td>0.0</td>\n",
       "      <td>0.0</td>\n",
       "      <td>0.0</td>\n",
       "      <td>0</td>\n",
       "      <td>0.575130</td>\n",
       "      <td>1</td>\n",
       "    </tr>\n",
       "    <tr>\n",
       "      <th>408</th>\n",
       "      <td>0.0</td>\n",
       "      <td>1.0</td>\n",
       "      <td>0.0</td>\n",
       "      <td>1.0</td>\n",
       "      <td>0.0</td>\n",
       "      <td>0.0</td>\n",
       "      <td>0.0</td>\n",
       "      <td>0</td>\n",
       "      <td>0.194915</td>\n",
       "      <td>0</td>\n",
       "    </tr>\n",
       "    <tr>\n",
       "      <th>94</th>\n",
       "      <td>0.0</td>\n",
       "      <td>0.0</td>\n",
       "      <td>0.0</td>\n",
       "      <td>1.0</td>\n",
       "      <td>0.0</td>\n",
       "      <td>0.0</td>\n",
       "      <td>0.0</td>\n",
       "      <td>0</td>\n",
       "      <td>0.575130</td>\n",
       "      <td>1</td>\n",
       "    </tr>\n",
       "    <tr>\n",
       "      <th>1187</th>\n",
       "      <td>0.0</td>\n",
       "      <td>0.0</td>\n",
       "      <td>0.0</td>\n",
       "      <td>1.0</td>\n",
       "      <td>1.0</td>\n",
       "      <td>0.0</td>\n",
       "      <td>0.0</td>\n",
       "      <td>1</td>\n",
       "      <td>0.304348</td>\n",
       "      <td>0</td>\n",
       "    </tr>\n",
       "  </tbody>\n",
       "</table>\n",
       "</div>"
      ],
      "text/plain": [
       "      Atlanta  Austin  Chicago  Intercept  Los Angeles  San Francisco  \\\n",
       "917       0.0     0.0      1.0        1.0          0.0            0.0   \n",
       "77        0.0     0.0      0.0        1.0          0.0            0.0   \n",
       "408       0.0     1.0      0.0        1.0          0.0            0.0   \n",
       "94        0.0     0.0      0.0        1.0          0.0            0.0   \n",
       "1187      0.0     0.0      0.0        1.0          1.0            0.0   \n",
       "\n",
       "      Washington  actualSalary  predictedSalary  approxPredict  \n",
       "917          0.0             1         0.361111              0  \n",
       "77           0.0             0         0.575130              1  \n",
       "408          0.0             0         0.194915              0  \n",
       "94           0.0             0         0.575130              1  \n",
       "1187         0.0             1         0.304348              0  "
      ]
     },
     "execution_count": 42,
     "metadata": {},
     "output_type": "execute_result"
    }
   ],
   "source": [
    "xyz = dfTrain[\"predictedSalary\"]\n",
    "cutoff = 0.5\n",
    "dfTrain[\"approxPredict\"] = [0 if i < cutoff else 1 for i in xyz]\n",
    "dfTrain.head()"
   ]
  },
  {
   "cell_type": "code",
   "execution_count": 43,
   "metadata": {
    "collapsed": false
   },
   "outputs": [
    {
     "name": "stdout",
     "output_type": "stream",
     "text": [
      "approxPredict    0   1\n",
      "actual                \n",
      "0              147  62\n",
      "1               68  97\n"
     ]
    }
   ],
   "source": [
    "# Confusion matrix:\n",
    "print pd.crosstab(\n",
    "                    dfTrain[\"actualSalary\"],\n",
    "                    dfTrain[\"approxPredict\"], \n",
    "                    rownames=[\"actual\"]\n",
    "                 )"
   ]
  },
  {
   "cell_type": "code",
   "execution_count": 44,
   "metadata": {
    "collapsed": false
   },
   "outputs": [
    {
     "name": "stdout",
     "output_type": "stream",
     "text": [
      "             precision    recall  f1-score   support\n",
      "\n",
      " Low Salary       0.68      0.70      0.69       209\n",
      "High Salary       0.61      0.59      0.60       165\n",
      "\n",
      "avg / total       0.65      0.65      0.65       374\n",
      "\n"
     ]
    }
   ],
   "source": [
    "target    = dfTrain[\"actualSalary\"].tolist()\n",
    "\n",
    "predicted = dfTrain[\"approxPredict\"].tolist()\n",
    "\n",
    "target_names = ['Low Salary', 'High Salary']\n",
    "\n",
    "print(classification_report(target, predicted, target_names=target_names))\n",
    "\n"
   ]
  },
  {
   "cell_type": "markdown",
   "metadata": {},
   "source": [
    "Our average precision, recall and F1-score are all 65%."
   ]
  },
  {
   "cell_type": "markdown",
   "metadata": {},
   "source": [
    "Now, we create a linear model using Scikit Learn"
   ]
  },
  {
   "cell_type": "code",
   "execution_count": 45,
   "metadata": {
    "collapsed": false
   },
   "outputs": [
    {
     "name": "stdout",
     "output_type": "stream",
     "text": [
      "Score: 0.66961414791\n"
     ]
    }
   ],
   "source": [
    "from sklearn import linear_model\n",
    "# import matplotlib.pyplot as plt\n",
    "lm = linear_model.LogisticRegression()\n",
    "\n",
    "result = lm.fit(X,y)\n",
    "predictions = lm.predict(X)\n",
    "print \"Score:\",result.score(X,y)"
   ]
  },
  {
   "cell_type": "code",
   "execution_count": 46,
   "metadata": {
    "collapsed": false
   },
   "outputs": [
    {
     "name": "stdout",
     "output_type": "stream",
     "text": [
      "             precision    recall  f1-score   support\n",
      "\n",
      " Low Salary       0.72      0.72      0.72       735\n",
      "High Salary       0.60      0.60      0.60       509\n",
      "\n",
      "avg / total       0.67      0.67      0.67      1244\n",
      "\n"
     ]
    }
   ],
   "source": [
    "# 0 means Low Salary, 1 means High Salary\n",
    "target    = y\n",
    "\n",
    "predicted = predictions\n",
    "\n",
    "target_names = ['Low Salary', 'High Salary']\n",
    "\n",
    "print(classification_report(target, predicted, target_names=target_names))\n",
    "\n"
   ]
  },
  {
   "cell_type": "markdown",
   "metadata": {},
   "source": [
    "Similar to our first Stats Model, our average precision, recall and F1-score are all 67%."
   ]
  },
  {
   "cell_type": "markdown",
   "metadata": {},
   "source": [
    "From our classification report, our best model is the the logistic regresstion model without cross-validation. Out model is able to predict about 67% of our results correctly. There is room to create a better model if we had more detailes information in our data. For one, we would be better off if we had actual salaries for each job posting as oppossed to estimates from the indeed website. This way, we can create more bins for the salary range. We might also get a better model if we include more variables in the model (for instance, job title, seniority and years of experience)."
   ]
  }
 ],
 "metadata": {
  "anaconda-cloud": {},
  "kernelspec": {
   "display_name": "Python [Root]",
   "language": "python",
   "name": "Python [Root]"
  },
  "language_info": {
   "codemirror_mode": {
    "name": "ipython",
    "version": 2
   },
   "file_extension": ".py",
   "mimetype": "text/x-python",
   "name": "python",
   "nbconvert_exporter": "python",
   "pygments_lexer": "ipython2",
   "version": "2.7.12"
  }
 },
 "nbformat": 4,
 "nbformat_minor": 0
}
